{
  "nbformat": 4,
  "nbformat_minor": 0,
  "metadata": {
    "colab": {
      "name": "Untitled6.ipynb",
      "provenance": [],
      "collapsed_sections": []
    },
    "kernelspec": {
      "name": "python3",
      "display_name": "Python 3"
    },
    "language_info": {
      "name": "python"
    }
  },
  "cells": [
    {
      "cell_type": "code",
      "execution_count": 6,
      "metadata": {
        "colab": {
          "base_uri": "https://localhost:8080/"
        },
        "id": "PJhNolj4yHTW",
        "outputId": "18c304f2-9064-4813-8dd2-08521131e6b2"
      },
      "outputs": [
        {
          "output_type": "stream",
          "name": "stdout",
          "text": [
            "PassengerId      0\n",
            "Survived         0\n",
            "Pclass           0\n",
            "Name             0\n",
            "Sex              0\n",
            "Age            177\n",
            "SibSp            0\n",
            "Parch            0\n",
            "Ticket           0\n",
            "Fare             0\n",
            "Cabin          687\n",
            "Embarked         2\n",
            "dtype: int64\n",
            "PassengerId    0\n",
            "Survived       0\n",
            "Pclass         0\n",
            "Name           0\n",
            "Sex            0\n",
            "Age            0\n",
            "SibSp          0\n",
            "Parch          0\n",
            "Ticket         0\n",
            "Fare           0\n",
            "Cabin          0\n",
            "Embarked       0\n",
            "dtype: int64\n",
            "   PassengerId Survived  Pclass                                         Name  \\\n",
            "0          343       No       2                   Collander, Mr. Erik Gustaf   \n",
            "1           76       No       3                      Moen, Mr. Sigurd Hansen   \n",
            "2          641       No       3                       Jensen, Mr. Hans Peder   \n",
            "3          568       No       3  Palsson, Mrs. Nils (Alma Cornelia Berglund)   \n",
            "4          672       No       1                       Davidson, Mr. Thornton   \n",
            "\n",
            "      Sex   Age  SibSp  Parch      Ticket     Fare  Cabin Embarked  \n",
            "0    male  28.0      0      0      248740  13.0000     G6        S  \n",
            "1    male  25.0      0      0      348123   7.6500  F G73        S  \n",
            "2    male  20.0      0      0      350050   7.8542     G6        S  \n",
            "3  female  29.0      0      4      349909  21.0750     G6        S  \n",
            "4    male  31.0      1      0  F.C. 12750  52.0000    B71        S  \n"
          ]
        }
      ],
      "source": [
        "import pandas as pd\n",
        "import numpy as np\n",
        "import seaborn as sns\n",
        "import matplotlib.pyplot as plt\n",
        "\n",
        "df = pd.read_csv(\"/content/titanic-passengers_1.csv\",sep=';')\n",
        "# print(df.head())\n",
        "print(df.isnull().sum())\n",
        "df['Age'].fillna(value=df['Age'].mean(), inplace=True)\n",
        "\n",
        "# print(df['Cabin'].value_counts())\n",
        "# print(df['Embarked'].value_counts())\n",
        "\n",
        "df['Cabin'].fillna(\"G6\", inplace=True)\n",
        "df['Embarked'].fillna(\"S\", inplace=True)\n",
        "print(df.isnull().sum())\n",
        "print(df.head())"
      ]
    },
    {
      "cell_type": "code",
      "source": [
        "# def plot_correlation_map( df ):\n",
        "\n",
        "#     corr = df.corr()\n",
        "\n",
        "#     s , ax = plt.subplots( figsize =( 12 , 10 ) )\n",
        "\n",
        "#     cmap = sns.diverging_palette( 220 , 10 , as_cmap = True )\n",
        "\n",
        "#     s = sns.heatmap(\n",
        "\n",
        "#         corr, \n",
        "\n",
        "#         cmap = cmap,\n",
        "\n",
        "#         square=True, \n",
        "\n",
        "#         cbar_kws={ 'shrink' : .9 }, \n",
        "\n",
        "#         ax=ax, \n",
        "\n",
        "#         annot = True, \n",
        "\n",
        "#         annot_kws = { 'fontsize' : 12 }\n",
        "\n",
        "#         )\n",
        "\n",
        "# c = df.groupby(['Survived'])['Pclass'].mean()\n",
        "\n",
        "\n",
        "# Title_Dictionary = {\n",
        "\n",
        "#                     \"Capt\":       \"Officer\",\n",
        "\n",
        "#                     \"Col\":        \"Officer\",\n",
        "\n",
        "#                     \"Major\":      \"Officer\",\n",
        "\n",
        "#                       \"Dr\":         \"Officer\",\n",
        "#                     \"Rev\":         \"Officer\",\n",
        "\n",
        "#                     \"Jonkheer\":   \"Royalty\",\n",
        "\n",
        "#                     \"Don\":        \"Royalty\",\n",
        "\n",
        "#                     \"Sir\" :       \"Royalty\",\n",
        "\n",
        "#                    \"Lady\" :      \"Royalty\",\n",
        "\n",
        "#                   \"the Countess\":      \"Royalty\",\n",
        "\n",
        "#                     \"Dona\":      \"Royalty\",\n",
        "\n",
        "#                     \"Mme\":        \"Miss\",\n",
        "\n",
        "#                     \"Mlle\":       \"Miss\",\n",
        "\n",
        "#                     \"Miss\" :      \"Miss\",\n",
        "\n",
        "#                     \"Ms\":         \"Mrs\",\n",
        "\n",
        "#                     \"Mr\" :        \"Mrs\",\n",
        "\n",
        "#                     \"Mrs\" :        \"Mrs\",\n",
        "\n",
        "#                     \"Master\" :    \"Master\"\n",
        "\n",
        "#                     }\n",
        "# Title_Dictionary_num = {\n",
        "\n",
        "#                     \"Officer\": 1,\n",
        "\n",
        "#                     \"Royalty\":  2,\n",
        "\n",
        "#                     \"Miss\": 3,\n",
        "\n",
        "#                     \"Mrs\": 4,\n",
        "\n",
        "#                     \"Master\" : 5\n",
        "\n",
        "#                     }\n",
        "# print(\"******************\")\n",
        "# title_list = []\n",
        "# for key in Title_Dictionary:\n",
        "#   for name in df['Name']:\n",
        "#     if key+\".\" in name:\n",
        "#       title_list.append(Title_Dictionary[key])\n",
        "# df['Title'] = title_list\n",
        "# print(df['Title'])\n",
        "# print(\"******************\")\n",
        "# print(df.head())\n",
        "# df = df.drop(['Name'], axis=1)\n",
        "# print(df.head())\n",
        "# print(df['Title'])"
      ],
      "metadata": {
        "colab": {
          "base_uri": "https://localhost:8080/"
        },
        "id": "YjukBEAxytB2",
        "outputId": "604c0164-c872-447c-ee60-8ce9b55b1d67"
      },
      "execution_count": 2,
      "outputs": [
        {
          "output_type": "stream",
          "name": "stdout",
          "text": [
            "******************\n",
            "0      Officer\n",
            "1      Officer\n",
            "2      Officer\n",
            "3      Officer\n",
            "4      Officer\n",
            "        ...   \n",
            "886     Master\n",
            "887     Master\n",
            "888     Master\n",
            "889     Master\n",
            "890     Master\n",
            "Name: Title, Length: 891, dtype: object\n",
            "******************\n",
            "   PassengerId Survived  Pclass                                         Name  \\\n",
            "0          343       No       2                   Collander, Mr. Erik Gustaf   \n",
            "1           76       No       3                      Moen, Mr. Sigurd Hansen   \n",
            "2          641       No       3                       Jensen, Mr. Hans Peder   \n",
            "3          568       No       3  Palsson, Mrs. Nils (Alma Cornelia Berglund)   \n",
            "4          672       No       1                       Davidson, Mr. Thornton   \n",
            "\n",
            "      Sex   Age  SibSp  Parch      Ticket     Fare  Cabin Embarked    Title  \n",
            "0    male  28.0      0      0      248740  13.0000    NaN        S  Officer  \n",
            "1    male  25.0      0      0      348123   7.6500  F G73        S  Officer  \n",
            "2    male  20.0      0      0      350050   7.8542    NaN        S  Officer  \n",
            "3  female  29.0      0      4      349909  21.0750    NaN        S  Officer  \n",
            "4    male  31.0      1      0  F.C. 12750  52.0000    B71        S  Officer  \n",
            "   PassengerId Survived  Pclass     Sex   Age  SibSp  Parch      Ticket  \\\n",
            "0          343       No       2    male  28.0      0      0      248740   \n",
            "1           76       No       3    male  25.0      0      0      348123   \n",
            "2          641       No       3    male  20.0      0      0      350050   \n",
            "3          568       No       3  female  29.0      0      4      349909   \n",
            "4          672       No       1    male  31.0      1      0  F.C. 12750   \n",
            "\n",
            "      Fare  Cabin Embarked    Title  \n",
            "0  13.0000    NaN        S  Officer  \n",
            "1   7.6500  F G73        S  Officer  \n",
            "2   7.8542    NaN        S  Officer  \n",
            "3  21.0750    NaN        S  Officer  \n",
            "4  52.0000    B71        S  Officer  \n",
            "0      Officer\n",
            "1      Officer\n",
            "2      Officer\n",
            "3      Officer\n",
            "4      Officer\n",
            "        ...   \n",
            "886     Master\n",
            "887     Master\n",
            "888     Master\n",
            "889     Master\n",
            "890     Master\n",
            "Name: Title, Length: 891, dtype: object\n"
          ]
        }
      ]
    },
    {
      "cell_type": "code",
      "source": [
        ""
      ],
      "metadata": {
        "id": "NVXK_K9gzxaM"
      },
      "execution_count": null,
      "outputs": []
    },
    {
      "cell_type": "code",
      "source": [
        ""
      ],
      "metadata": {
        "id": "MCGhC5pdz5Ne"
      },
      "execution_count": null,
      "outputs": []
    },
    {
      "cell_type": "code",
      "source": [
        "def preprocess_data(new_data):\n",
        "    new_data['Age'].fillna(new_data['Age'].mean(),inplace=True)\n",
        "    new_data.replace({'Sex':{'male': 1,'female':0}},inplace=True)\n",
        "    new_data['Cabin']=new_data.Cabin.fillna('G6')\n",
        "    new_data.replace({'Survived':{'Yes': 1,'No':0}},inplace=True)\n",
        "    return new_data\n",
        "data=preprocess_data(df)\n",
        "print(data)\n"
      ],
      "metadata": {
        "colab": {
          "base_uri": "https://localhost:8080/"
        },
        "id": "mD179PmkzD8G",
        "outputId": "04ffc69c-e7de-4eb9-f439-cadd8daf3102"
      },
      "execution_count": 7,
      "outputs": [
        {
          "output_type": "stream",
          "name": "stdout",
          "text": [
            "     PassengerId  Survived  Pclass  \\\n",
            "0            343         0       2   \n",
            "1             76         0       3   \n",
            "2            641         0       3   \n",
            "3            568         0       3   \n",
            "4            672         0       1   \n",
            "..           ...       ...     ...   \n",
            "886           10         1       2   \n",
            "887           61         0       3   \n",
            "888          535         0       3   \n",
            "889          102         0       3   \n",
            "890          428         1       2   \n",
            "\n",
            "                                                  Name  Sex        Age  SibSp  \\\n",
            "0                           Collander, Mr. Erik Gustaf    1  28.000000      0   \n",
            "1                              Moen, Mr. Sigurd Hansen    1  25.000000      0   \n",
            "2                               Jensen, Mr. Hans Peder    1  20.000000      0   \n",
            "3          Palsson, Mrs. Nils (Alma Cornelia Berglund)    0  29.000000      0   \n",
            "4                               Davidson, Mr. Thornton    1  31.000000      1   \n",
            "..                                                 ...  ...        ...    ...   \n",
            "886                Nasser, Mrs. Nicholas (Adele Achem)    0  14.000000      1   \n",
            "887                              Sirayanian, Mr. Orsen    1  22.000000      0   \n",
            "888                                Cacic, Miss. Marija    0  30.000000      0   \n",
            "889                   Petroff, Mr. Pastcho (\"Pentcho\")    1  29.699118      0   \n",
            "890  Phillips, Miss. Kate Florence (\"Mrs Kate Louis...    0  19.000000      0   \n",
            "\n",
            "     Parch      Ticket     Fare  Cabin Embarked  \n",
            "0        0      248740  13.0000     G6        S  \n",
            "1        0      348123   7.6500  F G73        S  \n",
            "2        0      350050   7.8542     G6        S  \n",
            "3        4      349909  21.0750     G6        S  \n",
            "4        0  F.C. 12750  52.0000    B71        S  \n",
            "..     ...         ...      ...    ...      ...  \n",
            "886      0      237736  30.0708     G6        C  \n",
            "887      0        2669   7.2292     G6        C  \n",
            "888      0      315084   8.6625     G6        S  \n",
            "889      0      349215   7.8958     G6        S  \n",
            "890      0      250655  26.0000     G6        S  \n",
            "\n",
            "[891 rows x 12 columns]\n"
          ]
        }
      ]
    },
    {
      "cell_type": "code",
      "source": [
        "#importing relevant libraries\n",
        "from sklearn.model_selection import train_test_split\n",
        "from sklearn import tree   \n",
        "from sklearn.tree import DecisionTreeClassifier\n",
        "from sklearn.metrics import accuracy_score\n",
        "\n",
        "#features extraction\n",
        "x=data.drop([\"Survived\", \"Name\", \"Cabin\", \"Ticket\", \"Embarked\"], axis=1)\n",
        "y= data[\"Survived\"]\n",
        "\n",
        "#splitting data\n",
        "x_train, x_test, y_train, y_test = train_test_split(x,y, test_size=0.20,random_state=10)\n",
        "\n",
        "#applying tree algorithm\n",
        "tree = tree.DecisionTreeClassifier()  \n",
        "tree.fit(x_train, y_train)   #fitting our model\n",
        "y_pred=tree.predict(x_test)   # evaluating our model\n",
        "print(\"score:{}\".format(accuracy_score(y_test, y_pred)))"
      ],
      "metadata": {
        "colab": {
          "base_uri": "https://localhost:8080/"
        },
        "id": "C76g3u99zVWh",
        "outputId": "dbc71551-2299-4f27-cb8e-3f5c13dc6917"
      },
      "execution_count": 8,
      "outputs": [
        {
          "output_type": "stream",
          "name": "stdout",
          "text": [
            "score:0.7541899441340782\n"
          ]
        }
      ]
    },
    {
      "cell_type": "code",
      "source": [
        "from sklearn import datasets\n",
        "import pandas as pd\n",
        "from sklearn.model_selection import train_test_split\n",
        "from sklearn.ensemble import RandomForestClassifier #Importing Random Forest Classifier\n",
        "from sklearn import metrics  # Importing metrics to test accuracy\n",
        "\n",
        "iris = datasets.load_iris()\n",
        "\n",
        "data=pd.DataFrame({\n",
        "'sepal length': iris.data[:,0],\n",
        "'sepal width': iris.data[:,1],\n",
        "'petal length': iris.data[:,2],\n",
        "'petal width': iris.data[:,3], \n",
        "'species': iris.target\n",
        "})\n",
        "\n",
        "X=data[['sepal length', 'sepal width', 'petal length', 'petal width']] #features\n",
        "y=data['species']  #target\n",
        "x_train, x_test, y_train, y_test= train_test_split(X, y, test_size=0.3) #splitting data with test size of 30%"
      ],
      "metadata": {
        "id": "KZ9WngXuz6hS"
      },
      "execution_count": 9,
      "outputs": []
    },
    {
      "cell_type": "code",
      "source": [
        "clf=RandomForestClassifier(n_estimators=10)  #Creating a random forest with 100 decision trees\n",
        "clf.fit(x_train, y_train)  #Training our model\n",
        "y_pred=clf.predict(x_test)  #testing our model\n",
        "print(\"Accuracy:\", metrics.accuracy_score(y_test, y_pred))  #Measuring the accuracy of our model"
      ],
      "metadata": {
        "colab": {
          "base_uri": "https://localhost:8080/"
        },
        "id": "g2tgP1LZ0DVr",
        "outputId": "59c0fbe3-cd06-4e0c-c16c-dc3516163e70"
      },
      "execution_count": 10,
      "outputs": [
        {
          "output_type": "stream",
          "name": "stdout",
          "text": [
            "Accuracy: 0.9555555555555556\n"
          ]
        }
      ]
    }
  ]
}